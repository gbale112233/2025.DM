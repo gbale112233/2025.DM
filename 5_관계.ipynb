{
  "nbformat": 4,
  "nbformat_minor": 0,
  "metadata": {
    "colab": {
      "provenance": [],
      "authorship_tag": "ABX9TyORwyCME9I/lLn9UN9yn6iS",
      "include_colab_link": true
    },
    "kernelspec": {
      "name": "python3",
      "display_name": "Python 3"
    },
    "language_info": {
      "name": "python"
    }
  },
  "cells": [
    {
      "cell_type": "markdown",
      "metadata": {
        "id": "view-in-github",
        "colab_type": "text"
      },
      "source": [
        "<a href=\"https://colab.research.google.com/github/gbale112233/2025.DM/blob/main/5_%EA%B4%80%EA%B3%84.ipynb\" target=\"_parent\"><img src=\"https://colab.research.google.com/assets/colab-badge.svg\" alt=\"Open In Colab\"/></a>"
      ]
    },
    {
      "cell_type": "code",
      "execution_count": 1,
      "metadata": {
        "colab": {
          "base_uri": "https://localhost:8080/"
        },
        "id": "YfQ0S4mLG4bE",
        "outputId": "5f8c7a95-20fb-4ad4-ee05-5500c53d324e"
      },
      "outputs": [
        {
          "output_type": "stream",
          "name": "stdout",
          "text": [
            "관계 R: {(2, 3), (3, 2), (1, 2), (3, 4)}\n"
          ]
        }
      ],
      "source": [
        "# 1) 이항 관계 예제\n",
        "\n",
        "A = {1, 2, 3}\n",
        "B = {2, 3, 4}\n",
        "\n",
        "# A에서 B로 가는 이항 관계 R\n",
        "R = {(1, 2), (2, 3), (3, 2), (3, 4)}\n",
        "\n",
        "print(\"관계 R:\", R)\n"
      ]
    },
    {
      "cell_type": "code",
      "source": [
        "# 2) 관계 행렬 표현\n",
        "\n",
        "import numpy as np\n",
        "\n",
        "A_list = sorted(A)\n",
        "B_list = sorted(B)\n",
        "\n",
        "relation_matrix = np.zeros((len(A_list), len(B_list)), dtype=int)\n",
        "\n",
        "for i, a in enumerate(A_list):\n",
        "    for j, b in enumerate(B_list):\n",
        "        if (a, b) in R:\n",
        "            relation_matrix[i, j] = 1\n",
        "\n",
        "print(\"관계 행렬 (rows: A, columns: B):\")\n",
        "print(relation_matrix)\n"
      ],
      "metadata": {
        "colab": {
          "base_uri": "https://localhost:8080/"
        },
        "id": "bw7GL7HRHiPy",
        "outputId": "f4c77d36-ca12-48b1-d4ee-3f7c0d7f2518"
      },
      "execution_count": 3,
      "outputs": [
        {
          "output_type": "stream",
          "name": "stdout",
          "text": [
            "관계 행렬 (rows: A, columns: B):\n",
            "[[1 0 0]\n",
            " [0 1 0]\n",
            " [1 0 1]]\n"
          ]
        }
      ]
    },
    {
      "cell_type": "code",
      "source": [
        "# 3) 합성 관계 예제\n",
        "\n",
        "# R: A -> B\n",
        "# S: B -> C\n",
        "C = {'x', 'y'}\n",
        "S = {(2, 'x'), (3, 'y'), (4, 'x')}\n",
        "\n",
        "# 합성 관계 R ∘ S\n",
        "composed_relation = set()\n",
        "\n",
        "for (a, b1) in R:\n",
        "    for (b2, c) in S:\n",
        "        if b1 == b2:\n",
        "            composed_relation.add((a, c))\n",
        "\n",
        "print(\"합성 관계 R ∘ S:\", composed_relation)\n"
      ],
      "metadata": {
        "colab": {
          "base_uri": "https://localhost:8080/"
        },
        "id": "cPyoeVYrIAoE",
        "outputId": "cde1915b-5bce-4a0c-8162-f2c497f1b8f1"
      },
      "execution_count": 4,
      "outputs": [
        {
          "output_type": "stream",
          "name": "stdout",
          "text": [
            "합성 관계 R ∘ S: {(2, 'y'), (3, 'x'), (1, 'x')}\n"
          ]
        }
      ]
    }
  ]
}